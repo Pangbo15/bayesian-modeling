{
 "cells": [
  {
   "cell_type": "markdown",
   "metadata": {},
   "source": [
    "# Monotone dependency modeling\n",
    "\n",
    "Sometimes all we know for certain data is that there is some growth or drop, but we are not certain of the exact functional form."
   ]
  },
  {
   "cell_type": "code",
   "execution_count": 2,
   "metadata": {},
   "outputs": [],
   "source": [
    "import scipy as sp\n",
    "import scipy.stats\n",
    "import pymc3 as pm\n",
    "import numpy as np\n",
    "import pandas as pd\n",
    "import matplotlib.pyplot as plt\n",
    "plt.style.use('seaborn-whitegrid')"
   ]
  },
  {
   "cell_type": "markdown",
   "metadata": {},
   "source": [
    "### Simulatiing data\n",
    "\n",
    "For demonstration purposes, we will simulate data that has monotone growth, let's say $f(x) = arctan(x)$, in the range $[0, 5]$ and add some Gaussian noise around those observations:\n",
    "\n",
    "$$ x \\sim Uniform(0, 5) $$"
   ]
  },
  {
   "cell_type": "markdown",
   "metadata": {},
   "source": [
    "$$ y \\sim \\text{Normal}(\\arctan(x), 0.07^2) $$"
   ]
  },
  {
   "cell_type": "code",
   "execution_count": 3,
   "metadata": {},
   "outputs": [
    {
     "data": {
      "text/html": [
       "<div>\n",
       "<style scoped>\n",
       "    .dataframe tbody tr th:only-of-type {\n",
       "        vertical-align: middle;\n",
       "    }\n",
       "\n",
       "    .dataframe tbody tr th {\n",
       "        vertical-align: top;\n",
       "    }\n",
       "\n",
       "    .dataframe thead th {\n",
       "        text-align: right;\n",
       "    }\n",
       "</style>\n",
       "<table border=\"1\" class=\"dataframe\">\n",
       "  <thead>\n",
       "    <tr style=\"text-align: right;\">\n",
       "      <th></th>\n",
       "      <th>x</th>\n",
       "      <th>y</th>\n",
       "    </tr>\n",
       "  </thead>\n",
       "  <tbody>\n",
       "    <tr>\n",
       "      <th>22</th>\n",
       "      <td>2.445037</td>\n",
       "      <td>1.166173</td>\n",
       "    </tr>\n",
       "    <tr>\n",
       "      <th>33</th>\n",
       "      <td>3.609783</td>\n",
       "      <td>1.251360</td>\n",
       "    </tr>\n",
       "    <tr>\n",
       "      <th>41</th>\n",
       "      <td>4.421348</td>\n",
       "      <td>1.292301</td>\n",
       "    </tr>\n",
       "    <tr>\n",
       "      <th>35</th>\n",
       "      <td>3.741311</td>\n",
       "      <td>1.332255</td>\n",
       "    </tr>\n",
       "    <tr>\n",
       "      <th>14</th>\n",
       "      <td>0.951313</td>\n",
       "      <td>0.768745</td>\n",
       "    </tr>\n",
       "  </tbody>\n",
       "</table>\n",
       "</div>"
      ],
      "text/plain": [
       "           x         y\n",
       "22  2.445037  1.166173\n",
       "33  3.609783  1.251360\n",
       "41  4.421348  1.292301\n",
       "35  3.741311  1.332255\n",
       "14  0.951313  0.768745"
      ]
     },
     "execution_count": 3,
     "metadata": {},
     "output_type": "execute_result"
    }
   ],
   "source": [
    "data = pd.DataFrame(dict(x = sp.stats.uniform(0, 5).rvs(50)))\n",
    "data = data.assign(y = np.arctan(data.x) + sp.stats.norm(0, 0.07).rvs(50))\n",
    "data = data.sort_values('x').reset_index(drop=True)\n",
    "data.sample(5)"
   ]
  },
  {
   "cell_type": "code",
   "execution_count": 4,
   "metadata": {},
   "outputs": [
    {
     "data": {
      "image/png": "[encoded data removed]",
      "text/plain": [
       "<Figure size 432x288 with 1 Axes>"
      ]
     },
     "metadata": {},
     "output_type": "display_data"
    }
   ],
   "source": [
    "plt.scatter(data.x, data.y, marker='.')\n",
    "None"
   ]
  },
  {
   "cell_type": "markdown",
   "metadata": {},
   "source": [
    "## Model\n",
    "\n",
    "We will model the data so that the $x$ values cummulatively apply an effect to the outcome, so that the largest $x$ value corresponds to a maximum effect:\n",
    "\n",
    "$$ y_i = a + b\\sum_{j=1}^i\\delta_j$$"
   ]
  },
  {
   "cell_type": "markdown",
   "metadata": {},
   "source": [
    "$$ \\sum_{j=1}^{N}\\delta_j = 1 $$\n",
    "\n",
    "Here, $y_0 = a$ corresponds to $\\min(x)$ and $y_{N-1} = b$ to ${\\max(x)}$. \n",
    "\n",
    "For $\\delta$, luckily, we have a distribution that satisfies exactly that criterion:\n"
   ]
  },
  {
   "cell_type": "markdown",
   "metadata": {},
   "source": [
    "\n",
    "$$ \\delta \\sim \\text{Dirichlet}(a=\\mathbf{1}) $$\n",
    "\n",
    "where we set the concentration parameter $a=\\mathbf{1}$, which is considered to be non-informative prior."
   ]
  },
  {
   "cell_type": "markdown",
   "metadata": {},
   "source": [
    "Choosing priors, we can select a weakly informative prior for a:\n",
    "\n",
    "$$ a \\sim \\text{Normal}(0, 0.5^2) $$"
   ]
  },
  {
   "cell_type": "markdown",
   "metadata": {},
   "source": [
    "For $b$, however, we should select a prior that is strictly positive, because we model growth:\n",
    "\n",
    "$$ b \\sim \\text{HalfNormal}(1^2) $$"
   ]
  },
  {
   "cell_type": "markdown",
   "metadata": {},
   "source": [
    "For the observed data, we will use normal likelihood with Cauchy prior for the noise:\n",
    "\n",
    "$$ \\text{observed} \\sim \\text{Normal}(y, \\varepsilon^2) $$"
   ]
  },
  {
   "cell_type": "markdown",
   "metadata": {},
   "source": [
    "$$ \\varepsilon \\sim \\text{HalfCauchy}(\\beta=1) $$"
   ]
  },
  {
   "cell_type": "code",
   "execution_count": 5,
   "metadata": {},
   "outputs": [
    {
     "name": "stderr",
     "output_type": "stream",
     "text": [
      "Auto-assigning NUTS sampler...\n",
      "Initializing NUTS using jitter+adapt_diag...\n",
      "Multiprocess sampling (2 chains in 2 jobs)\n",
      "NUTS: [eps, delta, b, a]\n",
      "Sampling 2 chains, 2 divergences: 100%|██████████| 20000/20000 [04:53<00:00, 37.63draws/s]\n",
      "There were 2 divergences after tuning. Increase `target_accept` or reparameterize.\n"
     ]
    }
   ],
   "source": [
    "with pm.Model() as m1:\n",
    "    N = data.shape[0]\n",
    "\n",
    "    a = pm.Normal('a', 0, 0.5)\n",
    "    b = pm.HalfNormal('b', 1)\n",
    "    delta = pm.Dirichlet('delta', np.ones(N-1))\n",
    "\n",
    "    _cur = 0\n",
    "    partial_sum = [0]\n",
    "    for i in range(N-1):\n",
    "        _cur = _cur + delta[i]\n",
    "        partial_sum.append(_cur)\n",
    "\n",
    "    partial_sum = pm.Deterministic('partial_sum', pm.math.stack(partial_sum))\n",
    "\n",
    "    y = pm.Deterministic('y', a + b * partial_sum)\n",
    "\n",
    "    eps = pm.HalfCauchy('eps', beta=1)\n",
    "    obs = pm.Normal('obs', y, eps,\n",
    "                    observed=data.y.values)\n",
    "\n",
    "    m1.trace = pm.sample(5000, tune=5000, chains=2)"
   ]
  },
  {
   "cell_type": "markdown",
   "metadata": {},
   "source": [
    "Notice how the $x$ values are not used in the inference, the only thing that matters is their order, that is, $x_i < x_{i+1} $ for all."
   ]
  },
  {
   "cell_type": "code",
   "execution_count": 6,
   "metadata": {},
   "outputs": [
    {
     "data": {
      "image/png": "[encoded data removed]",
      "text/plain": [
       "<Figure size 432x288 with 1 Axes>"
      ]
     },
     "metadata": {},
     "output_type": "display_data"
    }
   ],
   "source": [
    "tmp = pd.DataFrame(m1.trace['partial_sum']).apply(pm.hpd).T\n",
    "plt.fill_between(data.x, tmp[0], tmp[1], alpha=.4)\n",
    "plt.gca().set(title='partial sum (94% credible interval)',\n",
    "              xlabel='$x$')\n",
    "None"
   ]
  },
  {
   "cell_type": "markdown",
   "metadata": {},
   "source": [
    "Note that the beginning and the end of the partial sum values are exactly 0 and 1, respectively, by design."
   ]
  },
  {
   "cell_type": "code",
   "execution_count": 7,
   "metadata": {},
   "outputs": [
    {
     "data": {
      "image/png": "[encoded data removed]",
      "text/plain": [
       "<Figure size 432x288 with 1 Axes>"
      ]
     },
     "metadata": {},
     "output_type": "display_data"
    }
   ],
   "source": [
    "tmp = pd.DataFrame(m1.trace['y']).apply(pm.hpd).T\n",
    "plt.fill_between(data.x, tmp[0], tmp[1], alpha=.4)\n",
    "plt.scatter(data.x, data.y, marker='.', color='k')\n",
    "plt.gca().set(title='outcome (94% credible interval)',\n",
    "              xlabel='$x$', ylabel='$y$')\n",
    "None"
   ]
  },
  {
   "cell_type": "code",
   "execution_count": 8,
   "metadata": {},
   "outputs": [
    {
     "data": {
      "image/png": "[encoded data removed]",
      "text/plain": [
       "<Figure size 576x144 with 1 Axes>"
      ]
     },
     "metadata": {},
     "output_type": "display_data"
    }
   ],
   "source": [
    "pm.plot_forest(m1.trace, var_names=['a', 'b', 'eps'], figsize=(8, 2))\n",
    "None"
   ]
  }
 ],
 "metadata": {
  "kernelspec": {
   "display_name": "Python 3",
   "language": "python",
   "name": "python3"
  },
  "language_info": {
   "codemirror_mode": {
    "name": "ipython",
    "version": 3
   },
   "file_extension": ".py",
   "mimetype": "text/x-python",
   "name": "python",
   "nbconvert_exporter": "python",
   "pygments_lexer": "ipython3",
   "version": "3.7.4"
  }
 },
 "nbformat": 4,
 "nbformat_minor": 4
}
