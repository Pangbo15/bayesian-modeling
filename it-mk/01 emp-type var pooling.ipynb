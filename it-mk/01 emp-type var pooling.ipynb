{
 "cells": [
  {
   "cell_type": "code",
   "execution_count": 1,
   "metadata": {},
   "outputs": [],
   "source": [
    "%matplotlib inline\n",
    "\n",
    "from datetime import date, datetime, timedelta\n",
    "\n",
    "import numpy as np\n",
    "import pandas as pd\n",
    "import scipy as sp\n",
    "import matplotlib.pyplot as plt\n",
    "import pymc3 as pm\n",
    "import theano.tensor as tt\n",
    "\n",
    "plt.style.use('seaborn-whitegrid')\n"
   ]
  },
  {
   "cell_type": "code",
   "execution_count": 2,
   "metadata": {},
   "outputs": [],
   "source": [
    "df = pd.read_csv('programming_clean.csv')"
   ]
  },
  {
   "cell_type": "code",
   "execution_count": 3,
   "metadata": {},
   "outputs": [],
   "source": [
    "def summarize(alpha=0.05):\n",
    "\n",
    "    def _summarize(ser):\n",
    "        hpd_ = pm.hpd(ser, alpha=alpha)\n",
    "        return pd.Series({\n",
    "            'mean_': ser.mean(),\n",
    "            'lower': hpd_[0],\n",
    "            'upper': hpd_[1],\n",
    "        })\n",
    "\n",
    "    return _summarize\n",
    "\n",
    "\n",
    "def agg_prediction(trace_var, source_data, group_columns, aggregate_fc):\n",
    "    df = pd.DataFrame(trace_var).stack().reset_index().drop('level_0', axis=1)\n",
    "    merged = pd.merge(\n",
    "        df, source_data[group_columns],\n",
    "        left_on='level_1', right_index=True\n",
    "    )\n",
    "\n",
    "    return (\n",
    "        merged.groupby(group_columns)[0].apply(aggregate_fc)\n",
    "        .unstack().sort_index().reset_index()\n",
    "    )\n"
   ]
  },
  {
   "cell_type": "code",
   "execution_count": 4,
   "metadata": {},
   "outputs": [],
   "source": [
    "def get_cats(series, idx_name=None):\n",
    "    ser_name = series.name\n",
    "    if idx_name is None:\n",
    "        idx_name = ser_name + '_i'\n",
    "    \n",
    "    idx = (series.drop_duplicates().sort_values().reset_index(drop=True).reset_index()\n",
    "           .set_index(ser_name)['index'].rename(idx_name).to_frame())\n",
    "    return idx"
   ]
  },
  {
   "cell_type": "code",
   "execution_count": 5,
   "metadata": {},
   "outputs": [
    {
     "name": "stdout",
     "output_type": "stream",
     "text": [
      "(737, 8)\n"
     ]
    },
    {
     "data": {
      "text/html": [
       "<div>\n",
       "<style scoped>\n",
       "    .dataframe tbody tr th:only-of-type {\n",
       "        vertical-align: middle;\n",
       "    }\n",
       "\n",
       "    .dataframe tbody tr th {\n",
       "        vertical-align: top;\n",
       "    }\n",
       "\n",
       "    .dataframe thead th {\n",
       "        text-align: right;\n",
       "    }\n",
       "</style>\n",
       "<table border=\"1\" class=\"dataframe\">\n",
       "  <thead>\n",
       "    <tr style=\"text-align: right;\">\n",
       "      <th></th>\n",
       "      <th>title_i</th>\n",
       "      <th>emptype_i</th>\n",
       "      <th>position_i</th>\n",
       "      <th>comp_size_i</th>\n",
       "      <th>edu_i</th>\n",
       "      <th>pro_i</th>\n",
       "      <th>female</th>\n",
       "      <th>log_net_s</th>\n",
       "    </tr>\n",
       "  </thead>\n",
       "  <tbody>\n",
       "    <tr>\n",
       "      <th>55</th>\n",
       "      <td>0</td>\n",
       "      <td>2</td>\n",
       "      <td>3</td>\n",
       "      <td>2</td>\n",
       "      <td>2</td>\n",
       "      <td>1</td>\n",
       "      <td>1</td>\n",
       "      <td>-0.213872</td>\n",
       "    </tr>\n",
       "    <tr>\n",
       "      <th>175</th>\n",
       "      <td>7</td>\n",
       "      <td>2</td>\n",
       "      <td>5</td>\n",
       "      <td>2</td>\n",
       "      <td>3</td>\n",
       "      <td>1</td>\n",
       "      <td>1</td>\n",
       "      <td>0.990923</td>\n",
       "    </tr>\n",
       "    <tr>\n",
       "      <th>19</th>\n",
       "      <td>5</td>\n",
       "      <td>1</td>\n",
       "      <td>5</td>\n",
       "      <td>2</td>\n",
       "      <td>2</td>\n",
       "      <td>1</td>\n",
       "      <td>0</td>\n",
       "      <td>1.251193</td>\n",
       "    </tr>\n",
       "    <tr>\n",
       "      <th>330</th>\n",
       "      <td>5</td>\n",
       "      <td>2</td>\n",
       "      <td>4</td>\n",
       "      <td>3</td>\n",
       "      <td>2</td>\n",
       "      <td>0</td>\n",
       "      <td>1</td>\n",
       "      <td>0.541663</td>\n",
       "    </tr>\n",
       "    <tr>\n",
       "      <th>521</th>\n",
       "      <td>5</td>\n",
       "      <td>3</td>\n",
       "      <td>1</td>\n",
       "      <td>2</td>\n",
       "      <td>1</td>\n",
       "      <td>0</td>\n",
       "      <td>0</td>\n",
       "      <td>-0.148973</td>\n",
       "    </tr>\n",
       "  </tbody>\n",
       "</table>\n",
       "</div>"
      ],
      "text/plain": [
       "     title_i  emptype_i  position_i  comp_size_i  edu_i  pro_i  female  \\\n",
       "55         0          2           3            2      2      1       1   \n",
       "175        7          2           5            2      3      1       1   \n",
       "19         5          1           5            2      2      1       0   \n",
       "330        5          2           4            3      2      0       1   \n",
       "521        5          3           1            2      1      0       0   \n",
       "\n",
       "     log_net_s  \n",
       "55   -0.213872  \n",
       "175   0.990923  \n",
       "19    1.251193  \n",
       "330   0.541663  \n",
       "521  -0.148973  "
      ]
     },
     "execution_count": 5,
     "metadata": {},
     "output_type": "execute_result"
    }
   ],
   "source": [
    "data = df.copy()\n",
    "data = data[data.employer_type != 'Во странство']\n",
    "data.title.fillna('other', inplace=True)\n",
    "\n",
    "title_idx = get_cats(data.title)\n",
    "n_titles = title_idx.shape[0]\n",
    "\n",
    "emptype_idx = get_cats(data.employer_type, idx_name='emptype_i')\n",
    "n_emptype = emptype_idx.shape[0]\n",
    "\n",
    "pos_idx = pd.Series(\n",
    "    range(6),\n",
    "    index=pd.Index(\n",
    "        ['Lead', 'Senior', 'Middle', 'other', 'Junior', 'Практикант',][::-1],\n",
    "        name='position'),\n",
    "    name='position_i').to_frame()\n",
    "n_pos = pos_idx.shape[0]\n",
    "\n",
    "compsize_idx = get_cats(data.comp_size)\n",
    "n_compsize = compsize_idx.shape[0]\n",
    "\n",
    "edu_idx = pd.Series(\n",
    "    range(5),\n",
    "    index=pd.Index(\n",
    "        ['Средно образование', 'Уште студирам дипломски', 'Завршени дипломски студии',\n",
    "         'Завршени постдипломски студии', 'Доктор на науки'],\n",
    "        name='edu'),\n",
    "    name='edu_i').to_frame()\n",
    "n_edu = edu_idx.shape[0]\n",
    "\n",
    "pro_idx = pd.Series(\n",
    "    range(5),\n",
    "    index=pd.Index(\n",
    "       ['помалку од 5', '5-10 години', '11-15 години', '16-20 години',\n",
    "        'повеќе од 20 години'],\n",
    "        name='pro_years'),\n",
    "    name='pro_i').to_frame()\n",
    "n_pro = pro_idx.shape[0]\n",
    "\n",
    "data = (data.merge(title_idx, on='title')\n",
    "        .merge(emptype_idx, on='employer_type')\n",
    "        .merge(pos_idx, on='position')\n",
    "        .merge(compsize_idx, on='comp_size')\n",
    "        .merge(edu_idx, on='edu')\n",
    "        .merge(pro_idx, on='pro_years'))\n",
    "\n",
    "data = data.dropna().reset_index(drop=True)\n",
    "\n",
    "log_net_mean, log_net_std = np.log(data.net).mean(), np.log(data.net).std()\n",
    "\n",
    "data = data.assign(\n",
    "    female = (data.sex == 'Женски').astype('int'),\n",
    "    log_net_s = (np.log(data.net) - log_net_mean) / log_net_std\n",
    ")\n",
    "\n",
    "data = data[data.columns[9:]]\n",
    "\n",
    "print(data.shape)\n",
    "data.sample(5)"
   ]
  },
  {
   "cell_type": "code",
   "execution_count": 6,
   "metadata": {},
   "outputs": [
    {
     "name": "stderr",
     "output_type": "stream",
     "text": [
      "/home/petrushev/etc/jup_env/lib/python3.7/site-packages/theano/tensor/subtensor.py:2197: FutureWarning: Using a non-tuple sequence for multidimensional indexing is deprecated; use `arr[tuple(seq)]` instead of `arr[seq]`. In the future this will be interpreted as an array index, `arr[np.array(seq)]`, which will result either in an error or a different result.\n",
      "  rval = inputs[0].__getitem__(inputs[1:])\n",
      "/home/petrushev/etc/jup_env/lib/python3.7/site-packages/theano/tensor/subtensor.py:2339: FutureWarning: Using a non-tuple sequence for multidimensional indexing is deprecated; use `arr[tuple(seq)]` instead of `arr[seq]`. In the future this will be interpreted as an array index, `arr[np.array(seq)]`, which will result either in an error or a different result.\n",
      "  out[0][inputs[2:]] = inputs[1]\n"
     ]
    }
   ],
   "source": [
    "with pm.Model() as m2:\n",
    "    a = pm.Normal('a', mu=0, sd=1.5)\n",
    "    b_pos = pm.Normal('b_pos', mu=0, sd=1)\n",
    "    b_pro = pm.Normal('b_pro', mu=0, sd=1)\n",
    "    b_edu = pm.Normal('b_edu', mu=0, sd=1)\n",
    "    b_female = pm.Normal('b_female', mu=0, sd=1)\n",
    "    \n",
    "    title_bar = pm.Exponential('title_bar', lam=1)\n",
    "    title_a = pm.Normal('title_a', mu=0, sd=title_bar, shape=n_titles)\n",
    "\n",
    "    compsize_bar = pm.Exponential('compsize_bar', lam=1)\n",
    "    compsize_a = pm.Normal('compsize_a', mu=0, sd=compsize_bar, shape=n_compsize)\n",
    "\n",
    "    K_emp = pm.LKJCholeskyCov(\n",
    "        'K_emp', n=5, eta=1,\n",
    "        sd_dist=pm.Exponential.dist(lam=1, shape=5)\n",
    "    )\n",
    "    emp = pm.MvNormal(\n",
    "        'emp', mu=0,\n",
    "        chol = pm.expand_packed_triangular(5, K_emp),\n",
    "        shape=(n_emptype, 5)\n",
    "    )\n",
    "    \n",
    "    emp_a = pm.Deterministic('emp_a', emp[:, 0])\n",
    "    emp_pos = pm.Deterministic('emp_pos', emp[:, 1])\n",
    "    emp_pro = pm.Deterministic('emp_pro', emp[:, 2])\n",
    "    emp_edu = pm.Deterministic('emp_edu', emp[:, 3])\n",
    "    emp_female = pm.Deterministic('emp_female', emp[:, 4])\n",
    "\n",
    "    delta_pos = pm.Dirichlet('delta_pos', a=np.ones(n_pos-1))\n",
    "    cum_pos = pm.Deterministic(\n",
    "        'cum_pos',\n",
    "        tt.as_tensor_variable(\n",
    "            [pm.math.sum(delta_pos[0:end]) - 0.5\n",
    "             for end in range(n_pos)]\n",
    "        )\n",
    "    )\n",
    "    \n",
    "    delta_pro = pm.Dirichlet('delta_pro', a=np.ones(n_pro-1))\n",
    "    cum_pro = pm.Deterministic(\n",
    "        'cum_pro',\n",
    "        tt.as_tensor_variable(\n",
    "            [pm.math.sum(delta_pro[0:end]) - 0.5\n",
    "             for end in range(n_pro)]\n",
    "        )\n",
    "    )\n",
    "    \n",
    "    delta_edu = pm.Dirichlet('delta_edu', a=np.ones(n_edu-1))\n",
    "    cum_edu = pm.Deterministic(\n",
    "        'cum_edu',\n",
    "        tt.as_tensor_variable(\n",
    "            [pm.math.sum(delta_edu[0:end]) - 0.5\n",
    "             for end in range(n_edu)]\n",
    "        )\n",
    "    )\n",
    "\n",
    "    A = (a + title_a[data.title_i.values]\n",
    "         + emp_a[data.emptype_i.values]\n",
    "         + compsize_a[data.comp_size_i.values])\n",
    "    B_pos = b_pos + emp_pos[data.emptype_i.values]\n",
    "    B_pro = b_pro + emp_pro[data.emptype_i.values]\n",
    "    B_edu = b_edu + emp_edu[data.emptype_i.values]\n",
    "    B_female = b_female + emp_female[data.emptype_i.values]\n",
    "    \n",
    "    log_net_s = pm.Deterministic(\n",
    "        'log_net_s',\n",
    "        A\n",
    "        + B_pos * cum_pos[data.position_i.values]\n",
    "        + B_pro * cum_pro[data.pro_i.values]\n",
    "        + B_edu * cum_edu[data.edu_i.values]\n",
    "        + B_female * data.female.values\n",
    "    )\n",
    "    \n",
    "    sigma = pm.HalfCauchy('sigma', beta=5)\n",
    "    obs = pm.Normal('obs', mu=log_net_s, sd=sigma,\n",
    "                    observed=data.log_net_s.values)\n",
    "    \n",
    "    m2.name = 'm2'\n",
    "#     m2.trace = pm.sample(1500, tune=3500, chains=2)\n",
    "#     pm.save_trace(m2.trace)"
   ]
  },
  {
   "cell_type": "code",
   "execution_count": 10,
   "metadata": {},
   "outputs": [],
   "source": [
    "with m2:\n",
    "    m2.trace = pm.load_trace(directory='.pymc_2.trace/')"
   ]
  },
  {
   "cell_type": "code",
   "execution_count": 108,
   "metadata": {},
   "outputs": [
    {
     "data": {
      "image/png": "[encoded data removed]",
      "text/plain": [
       "<Figure size 432x216 with 1 Axes>"
      ]
     },
     "metadata": {
      "needs_background": "light"
     },
     "output_type": "display_data"
    }
   ],
   "source": [
    "fig, axes = pm.plot_forest(m2.trace,\n",
    "                           var_names=['a', 'b_female', 'b_pos', 'b_pro', 'b_edu'],\n",
    "                           figsize=(6, 3))\n",
    "axes[0].grid()\n",
    "None"
   ]
  },
  {
   "cell_type": "markdown",
   "metadata": {},
   "source": [
    "**Заклучок**: Најголем ефект на платата има позицијата (рангот junior --> lead)"
   ]
  },
  {
   "cell_type": "markdown",
   "metadata": {},
   "source": [
    "## Категориски ефекти"
   ]
  },
  {
   "cell_type": "code",
   "execution_count": 9,
   "metadata": {},
   "outputs": [
    {
     "data": {
      "image/png": "[encoded data removed]",
      "text/plain": [
       "<Figure size 432x475.2 with 1 Axes>"
      ]
     },
     "metadata": {
      "needs_background": "light"
     },
     "output_type": "display_data"
    }
   ],
   "source": [
    "fig, axes = pm.plot_forest(m2.trace, var_names=['title_a'])\n",
    "axes[0].grid()\n",
    "axes[0].set(yticklabels=title_idx.index.values[::-1])\n",
    "axes[0].axvline(0)\n",
    "None"
   ]
  },
  {
   "cell_type": "markdown",
   "metadata": {},
   "source": [
    "**Заклучок**: Категоријата `Студент` не покажува варијација зашто студентите се практикант/јуниор, па ефектот на позицијата е веќе земен во предвид."
   ]
  },
  {
   "cell_type": "code",
   "execution_count": 13,
   "metadata": {},
   "outputs": [
    {
     "data": {
      "image/png": "[encoded data removed]",
      "text/plain": [
       "<Figure size 432x374.4 with 1 Axes>"
      ]
     },
     "metadata": {
      "needs_background": "light"
     },
     "output_type": "display_data"
    }
   ],
   "source": [
    "fig, axes = pm.plot_forest(m2.trace, var_names=['compsize_a'])\n",
    "axes[0].grid()\n",
    "axes[0].set(yticklabels=compsize_idx.index.values[::-1])\n",
    "axes[0].axvline(0)\n",
    "None"
   ]
  },
  {
   "cell_type": "code",
   "execution_count": 15,
   "metadata": {},
   "outputs": [
    {
     "data": {
      "image/png": "[encoded data removed]",
      "text/plain": [
       "<Figure size 360x288 with 1 Axes>"
      ]
     },
     "metadata": {
      "needs_background": "light"
     },
     "output_type": "display_data"
    }
   ],
   "source": [
    "fig, axes = pm.plot_forest(m2.trace, var_names=['emp_a'], figsize=(5, 4))\n",
    "axes[0].grid()\n",
    "axes[0].set(yticklabels=emptype_idx.index.values[::-1])\n",
    "axes[0].axvline(0)\n",
    "None"
   ]
  },
  {
   "cell_type": "markdown",
   "metadata": {},
   "source": [
    "**Заклучок**: Варијацијата на ефектите е најголема кај типот на договор за вработување, најмала варијација има видот на работа (`backend`, `frontent`, ...)"
   ]
  },
  {
   "cell_type": "markdown",
   "metadata": {},
   "source": [
    "### Кумулативни ефекти\n",
    "Следниве три табели се однесуваат на кумулативни ефекти, e.g., `Middle` секогаш има поголем ефект од `Junior` (таканаречени подредени категории). Ефектите се скалирани од -0.5 до +0.5, Нулата се однесува на просечниот актор."
   ]
  },
  {
   "cell_type": "code",
   "execution_count": 11,
   "metadata": {},
   "outputs": [
    {
     "data": {
      "image/png": "[encoded data removed]",
      "text/plain": [
       "<Figure size 504x216 with 1 Axes>"
      ]
     },
     "metadata": {
      "needs_background": "light"
     },
     "output_type": "display_data"
    }
   ],
   "source": [
    "fig, axes = pm.plot_forest(m2.trace, var_names=['cum_pos'], figsize=(7, 3))\n",
    "axes[0].grid()\n",
    "axes[0].set(yticklabels=pos_idx.index.values[::-1])\n",
    "None"
   ]
  },
  {
   "cell_type": "code",
   "execution_count": 16,
   "metadata": {},
   "outputs": [
    {
     "data": {
      "image/png": "[encoded data removed]",
      "text/plain": [
       "<Figure size 504x216 with 1 Axes>"
      ]
     },
     "metadata": {
      "needs_background": "light"
     },
     "output_type": "display_data"
    }
   ],
   "source": [
    "fig, axes = pm.plot_forest(m2.trace, var_names=['cum_pro'], figsize=(7, 3))\n",
    "axes[0].grid()\n",
    "axes[0].set(yticklabels=pro_idx.index.values[::-1])\n",
    "None"
   ]
  },
  {
   "cell_type": "markdown",
   "metadata": {},
   "source": [
    "**Заклучок**: Луѓето со над 10 години веќе се сметаат за професионалци и сѐ над тоа има само diminished returns."
   ]
  },
  {
   "cell_type": "code",
   "execution_count": 17,
   "metadata": {},
   "outputs": [
    {
     "data": {
      "image/png": "[encoded data removed]",
      "text/plain": [
       "<Figure size 504x216 with 1 Axes>"
      ]
     },
     "metadata": {
      "needs_background": "light"
     },
     "output_type": "display_data"
    }
   ],
   "source": [
    "fig, axes = pm.plot_forest(m2.trace, var_names=['cum_edu'], figsize=(7, 3))\n",
    "axes[0].grid()\n",
    "axes[0].set(yticklabels=edu_idx.index.values[::-1])\n",
    "None"
   ]
  },
  {
   "cell_type": "markdown",
   "metadata": {},
   "source": [
    "## Комплетна проценка"
   ]
  },
  {
   "cell_type": "code",
   "execution_count": 90,
   "metadata": {},
   "outputs": [],
   "source": [
    "test_data = (\n",
    "    title_idx.reset_index().assign(key=0)\n",
    "    .merge(compsize_idx.reset_index().assign(key=0))\n",
    "    .merge(emptype_idx.reset_index().assign(key=0))\n",
    "    .merge(pos_idx.reset_index().assign(key=0))\n",
    "    .merge(pro_idx.reset_index().assign(key=0))\n",
    "    .merge(edu_idx.reset_index().assign(key=0))\n",
    "    .merge(pd.Series([0, 1], name='female').to_frame().assign(key=0))\n",
    ").drop('key', axis=1)\n",
    "\n",
    "test_data = test_data.assign(\n",
    "    A = (m2.trace['a'].mean(axis=0)\n",
    "         + m2.trace['title_a'].mean(axis=0)[test_data.title_i]\n",
    "         + m2.trace['emp_a'].mean(axis=0)[test_data.emptype_i]\n",
    "         + m2.trace['compsize_a'].mean(axis=0)[test_data.comp_size_i]),\n",
    "    B_pos = (m2.trace['b_pos'].mean(axis=0)\n",
    "             + m2.trace['emp_pos'].mean(axis=0)[test_data.emptype_i]),\n",
    "    B_pro = (m2.trace['b_pro'].mean(axis=0)\n",
    "             + m2.trace['emp_pro'].mean(axis=0)[test_data.emptype_i]),\n",
    "    B_edu = (m2.trace['b_edu'].mean(axis=0)\n",
    "             + m2.trace['emp_edu'].mean(axis=0)[test_data.emptype_i]),\n",
    "    B_female = (m2.trace['b_female'].mean(axis=0)\n",
    "             + m2.trace['emp_female'].mean(axis=0)[test_data.emptype_i]),\n",
    ")\n",
    "\n",
    "test_data = test_data.assign(\n",
    "    net = np.exp(\n",
    "        (\n",
    "            test_data.A\n",
    "            + test_data.B_pos * m2.trace['cum_pos'].mean(axis=0)[test_data.position_i]\n",
    "            + test_data.B_pro * m2.trace['cum_pro'].mean(axis=0)[test_data.pro_i]\n",
    "            + test_data.B_edu * m2.trace['cum_edu'].mean(axis=0)[test_data.edu_i]\n",
    "            + test_data.B_female * test_data.female\n",
    "        )\n",
    "        * log_net_std \n",
    "        + log_net_mean\n",
    "    )\n",
    ")\n",
    "test_data = test_data.drop(['title_i', 'emptype_i', 'position_i', 'comp_size_i',\n",
    "                            'pro_i', 'edu_i', 'A' ,'B_pos', 'B_pro', 'B_edu', 'B_female'],\n",
    "                           axis=1)\n",
    "test_data = test_data.assign(net = test_data.net.map(lambda n: np.round(n, -2)).astype('int'))\n",
    "\n",
    "test_data.to_csv('all_means.csv', index=False, header=True)"
   ]
  },
  {
   "cell_type": "markdown",
   "metadata": {},
   "source": [
    "Најголеми / најмали плати"
   ]
  },
  {
   "cell_type": "code",
   "execution_count": 27,
   "metadata": {},
   "outputs": [
    {
     "data": {
      "text/html": [
       "<div>\n",
       "<style scoped>\n",
       "    .dataframe tbody tr th:only-of-type {\n",
       "        vertical-align: middle;\n",
       "    }\n",
       "\n",
       "    .dataframe tbody tr th {\n",
       "        vertical-align: top;\n",
       "    }\n",
       "\n",
       "    .dataframe thead th {\n",
       "        text-align: right;\n",
       "    }\n",
       "</style>\n",
       "<table border=\"1\" class=\"dataframe\">\n",
       "  <thead>\n",
       "    <tr style=\"text-align: right;\">\n",
       "      <th></th>\n",
       "      <th>title</th>\n",
       "      <th>comp_size</th>\n",
       "      <th>employer_type</th>\n",
       "      <th>position</th>\n",
       "      <th>pro_years</th>\n",
       "      <th>edu</th>\n",
       "      <th>female</th>\n",
       "      <th>net</th>\n",
       "    </tr>\n",
       "  </thead>\n",
       "  <tbody>\n",
       "    <tr>\n",
       "      <th>83098</th>\n",
       "      <td>Девелопер на мобилни апликации</td>\n",
       "      <td>1000+</td>\n",
       "      <td>remote за странска компанија</td>\n",
       "      <td>Lead</td>\n",
       "      <td>повеќе од 20 години</td>\n",
       "      <td>Доктор на науки</td>\n",
       "      <td>0</td>\n",
       "      <td>247700</td>\n",
       "    </tr>\n",
       "    <tr>\n",
       "      <th>83998</th>\n",
       "      <td>Девелопер на мобилни апликации</td>\n",
       "      <td>1000+</td>\n",
       "      <td>фриленс</td>\n",
       "      <td>Lead</td>\n",
       "      <td>повеќе од 20 години</td>\n",
       "      <td>Доктор на науки</td>\n",
       "      <td>0</td>\n",
       "      <td>247000</td>\n",
       "    </tr>\n",
       "    <tr>\n",
       "      <th>20098</th>\n",
       "      <td>DevOps специјалист</td>\n",
       "      <td>1000+</td>\n",
       "      <td>remote за странска компанија</td>\n",
       "      <td>Lead</td>\n",
       "      <td>повеќе од 20 години</td>\n",
       "      <td>Доктор на науки</td>\n",
       "      <td>0</td>\n",
       "      <td>246600</td>\n",
       "    </tr>\n",
       "    <tr>\n",
       "      <th>47098</th>\n",
       "      <td>Full-stack девелопер</td>\n",
       "      <td>1000+</td>\n",
       "      <td>remote за странска компанија</td>\n",
       "      <td>Lead</td>\n",
       "      <td>повеќе од 20 години</td>\n",
       "      <td>Доктор на науки</td>\n",
       "      <td>0</td>\n",
       "      <td>246100</td>\n",
       "    </tr>\n",
       "    <tr>\n",
       "      <th>11098</th>\n",
       "      <td>Data Analyst</td>\n",
       "      <td>1000+</td>\n",
       "      <td>remote за странска компанија</td>\n",
       "      <td>Lead</td>\n",
       "      <td>повеќе од 20 години</td>\n",
       "      <td>Доктор на науки</td>\n",
       "      <td>0</td>\n",
       "      <td>246000</td>\n",
       "    </tr>\n",
       "    <tr>\n",
       "      <th>20998</th>\n",
       "      <td>DevOps специјалист</td>\n",
       "      <td>1000+</td>\n",
       "      <td>фриленс</td>\n",
       "      <td>Lead</td>\n",
       "      <td>повеќе од 20 години</td>\n",
       "      <td>Доктор на науки</td>\n",
       "      <td>0</td>\n",
       "      <td>245900</td>\n",
       "    </tr>\n",
       "    <tr>\n",
       "      <th>47998</th>\n",
       "      <td>Full-stack девелопер</td>\n",
       "      <td>1000+</td>\n",
       "      <td>фриленс</td>\n",
       "      <td>Lead</td>\n",
       "      <td>повеќе од 20 години</td>\n",
       "      <td>Доктор на науки</td>\n",
       "      <td>0</td>\n",
       "      <td>245400</td>\n",
       "    </tr>\n",
       "    <tr>\n",
       "      <th>11998</th>\n",
       "      <td>Data Analyst</td>\n",
       "      <td>1000+</td>\n",
       "      <td>фриленс</td>\n",
       "      <td>Lead</td>\n",
       "      <td>повеќе од 20 години</td>\n",
       "      <td>Доктор на науки</td>\n",
       "      <td>0</td>\n",
       "      <td>245300</td>\n",
       "    </tr>\n",
       "    <tr>\n",
       "      <th>84598</th>\n",
       "      <td>Девелопер на мобилни апликации</td>\n",
       "      <td>101 - 500</td>\n",
       "      <td>remote за странска компанија</td>\n",
       "      <td>Lead</td>\n",
       "      <td>повеќе од 20 години</td>\n",
       "      <td>Доктор на науки</td>\n",
       "      <td>0</td>\n",
       "      <td>243200</td>\n",
       "    </tr>\n",
       "  </tbody>\n",
       "</table>\n",
       "</div>"
      ],
      "text/plain": [
       "                                title  comp_size  \\\n",
       "83098  Девелопер на мобилни апликации      1000+   \n",
       "83998  Девелопер на мобилни апликации      1000+   \n",
       "20098              DevOps специјалист      1000+   \n",
       "47098            Full-stack девелопер      1000+   \n",
       "11098                    Data Analyst      1000+   \n",
       "20998              DevOps специјалист      1000+   \n",
       "47998            Full-stack девелопер      1000+   \n",
       "11998                    Data Analyst      1000+   \n",
       "84598  Девелопер на мобилни апликации  101 - 500   \n",
       "\n",
       "                      employer_type position            pro_years  \\\n",
       "83098  remote за странска компанија     Lead  повеќе од 20 години   \n",
       "83998                       фриленс     Lead  повеќе од 20 години   \n",
       "20098  remote за странска компанија     Lead  повеќе од 20 години   \n",
       "47098  remote за странска компанија     Lead  повеќе од 20 години   \n",
       "11098  remote за странска компанија     Lead  повеќе од 20 години   \n",
       "20998                       фриленс     Lead  повеќе од 20 години   \n",
       "47998                       фриленс     Lead  повеќе од 20 години   \n",
       "11998                       фриленс     Lead  повеќе од 20 години   \n",
       "84598  remote за странска компанија     Lead  повеќе од 20 години   \n",
       "\n",
       "                   edu  female     net  \n",
       "83098  Доктор на науки       0  247700  \n",
       "83998  Доктор на науки       0  247000  \n",
       "20098  Доктор на науки       0  246600  \n",
       "47098  Доктор на науки       0  246100  \n",
       "11098  Доктор на науки       0  246000  \n",
       "20998  Доктор на науки       0  245900  \n",
       "47998  Доктор на науки       0  245400  \n",
       "11998  Доктор на науки       0  245300  \n",
       "84598  Доктор на науки       0  243200  "
      ]
     },
     "execution_count": 27,
     "metadata": {},
     "output_type": "execute_result"
    }
   ],
   "source": [
    "test_data.nlargest(9, 'net')"
   ]
  },
  {
   "cell_type": "code",
   "execution_count": 34,
   "metadata": {},
   "outputs": [
    {
     "data": {
      "text/html": [
       "<div>\n",
       "<style scoped>\n",
       "    .dataframe tbody tr th:only-of-type {\n",
       "        vertical-align: middle;\n",
       "    }\n",
       "\n",
       "    .dataframe tbody tr th {\n",
       "        vertical-align: top;\n",
       "    }\n",
       "\n",
       "    .dataframe thead th {\n",
       "        text-align: right;\n",
       "    }\n",
       "</style>\n",
       "<table border=\"1\" class=\"dataframe\">\n",
       "  <thead>\n",
       "    <tr style=\"text-align: right;\">\n",
       "      <th></th>\n",
       "      <th>title</th>\n",
       "      <th>comp_size</th>\n",
       "      <th>employer_type</th>\n",
       "      <th>position</th>\n",
       "      <th>pro_years</th>\n",
       "      <th>edu</th>\n",
       "      <th>female</th>\n",
       "      <th>net</th>\n",
       "    </tr>\n",
       "  </thead>\n",
       "  <tbody>\n",
       "    <tr>\n",
       "      <th>35101</th>\n",
       "      <td>Embedded</td>\n",
       "      <td>Само јас</td>\n",
       "      <td>во домашна компанија</td>\n",
       "      <td>Практикант</td>\n",
       "      <td>помалку од 5</td>\n",
       "      <td>Средно образование</td>\n",
       "      <td>1</td>\n",
       "      <td>6300</td>\n",
       "    </tr>\n",
       "    <tr>\n",
       "      <th>8101</th>\n",
       "      <td>Back-end девелопер/програмер</td>\n",
       "      <td>Само јас</td>\n",
       "      <td>во домашна компанија</td>\n",
       "      <td>Практикант</td>\n",
       "      <td>помалку од 5</td>\n",
       "      <td>Средно образование</td>\n",
       "      <td>1</td>\n",
       "      <td>6300</td>\n",
       "    </tr>\n",
       "    <tr>\n",
       "      <th>44101</th>\n",
       "      <td>Front-end девелопер</td>\n",
       "      <td>Само јас</td>\n",
       "      <td>во домашна компанија</td>\n",
       "      <td>Практикант</td>\n",
       "      <td>помалку од 5</td>\n",
       "      <td>Средно образование</td>\n",
       "      <td>1</td>\n",
       "      <td>6200</td>\n",
       "    </tr>\n",
       "    <tr>\n",
       "      <th>98101</th>\n",
       "      <td>Продукт менаџер</td>\n",
       "      <td>Само јас</td>\n",
       "      <td>во домашна компанија</td>\n",
       "      <td>Практикант</td>\n",
       "      <td>помалку од 5</td>\n",
       "      <td>Средно образование</td>\n",
       "      <td>1</td>\n",
       "      <td>6100</td>\n",
       "    </tr>\n",
       "    <tr>\n",
       "      <th>80101</th>\n",
       "      <td>Администратор на датабази</td>\n",
       "      <td>Само јас</td>\n",
       "      <td>во домашна компанија</td>\n",
       "      <td>Практикант</td>\n",
       "      <td>помалку од 5</td>\n",
       "      <td>Средно образование</td>\n",
       "      <td>1</td>\n",
       "      <td>6100</td>\n",
       "    </tr>\n",
       "    <tr>\n",
       "      <th>62101</th>\n",
       "      <td>QA тестер или тест девелопер</td>\n",
       "      <td>Само јас</td>\n",
       "      <td>во домашна компанија</td>\n",
       "      <td>Практикант</td>\n",
       "      <td>помалку од 5</td>\n",
       "      <td>Средно образование</td>\n",
       "      <td>1</td>\n",
       "      <td>6100</td>\n",
       "    </tr>\n",
       "    <tr>\n",
       "      <th>107101</th>\n",
       "      <td>Систем администратор</td>\n",
       "      <td>Само јас</td>\n",
       "      <td>во домашна компанија</td>\n",
       "      <td>Практикант</td>\n",
       "      <td>помалку од 5</td>\n",
       "      <td>Средно образование</td>\n",
       "      <td>1</td>\n",
       "      <td>6000</td>\n",
       "    </tr>\n",
       "  </tbody>\n",
       "</table>\n",
       "</div>"
      ],
      "text/plain": [
       "                               title comp_size         employer_type  \\\n",
       "35101                       Embedded  Само јас  во домашна компанија   \n",
       "8101    Back-end девелопер/програмер  Само јас  во домашна компанија   \n",
       "44101            Front-end девелопер  Само јас  во домашна компанија   \n",
       "98101                Продукт менаџер  Само јас  во домашна компанија   \n",
       "80101      Администратор на датабази  Само јас  во домашна компанија   \n",
       "62101   QA тестер или тест девелопер  Само јас  во домашна компанија   \n",
       "107101          Систем администратор  Само јас  во домашна компанија   \n",
       "\n",
       "          position     pro_years                 edu  female   net  \n",
       "35101   Практикант  помалку од 5  Средно образование       1  6300  \n",
       "8101    Практикант  помалку од 5  Средно образование       1  6300  \n",
       "44101   Практикант  помалку од 5  Средно образование       1  6200  \n",
       "98101   Практикант  помалку од 5  Средно образование       1  6100  \n",
       "80101   Практикант  помалку од 5  Средно образование       1  6100  \n",
       "62101   Практикант  помалку од 5  Средно образование       1  6100  \n",
       "107101  Практикант  помалку од 5  Средно образование       1  6000  "
      ]
     },
     "execution_count": 34,
     "metadata": {},
     "output_type": "execute_result"
    }
   ],
   "source": [
    "test_data.nsmallest(7, 'net')[::-1]"
   ]
  },
  {
   "cell_type": "markdown",
   "metadata": {},
   "source": [
    "## Gender pay gap"
   ]
  },
  {
   "cell_type": "code",
   "execution_count": 109,
   "metadata": {},
   "outputs": [],
   "source": [
    "test_gender = (\n",
    "    emptype_idx.reset_index().assign(key=0)\n",
    "    .merge(pd.Series([0, 1], name='female').to_frame().assign(key=0))\n",
    ").drop('key', axis=1)\n",
    "\n",
    "test_gender = test_gender.assign(\n",
    "    A = (m2.trace['a'].mean(axis=0)\n",
    "         + m2.trace['emp_a'].mean(axis=0)[test_gender.emptype_i]),\n",
    "    B_female = (m2.trace['b_female'].mean(axis=0)\n",
    "             + m2.trace['emp_female'].mean(axis=0)[test_gender.emptype_i]),\n",
    ")\n",
    "\n",
    "test_gender = test_gender.assign(\n",
    "    net = np.exp(\n",
    "        (\n",
    "            test_gender.A\n",
    "            + test_gender.B_female * test_gender.female\n",
    "        )\n",
    "        * log_net_std \n",
    "        + log_net_mean\n",
    "    )\n",
    ")\n",
    "\n",
    "test_gender = test_gender.set_index(['employer_type', 'female']).net.unstack().sort_values(0)\n",
    "test_gender = test_gender.assign(rel_diff = 1-test_gender[1]/test_gender[0])\n",
    "test_gender = test_gender.reset_index()"
   ]
  },
  {
   "cell_type": "code",
   "execution_count": 112,
   "metadata": {},
   "outputs": [
    {
     "data": {
      "image/png": "[encoded data removed]",
      "text/plain": [
       "<Figure size 1080x540 with 1 Axes>"
      ]
     },
     "metadata": {
      "needs_background": "light"
     },
     "output_type": "display_data"
    }
   ],
   "source": [
    "plt.figure(figsize=(12, 6), dpi=90)\n",
    "plt.barh(test_gender.index, test_gender[0], height=.3, color='b', label='Мажи')\n",
    "plt.barh(test_gender.index -.3, test_gender[1], height=.3, color='r', label='Жени')\n",
    "plt.gca().set(\n",
    "    yticks = test_gender.index,\n",
    "    yticklabels=test_gender.employer_type,\n",
    "    xlabel=('нето'),\n",
    "    title='Просечни плати'\n",
    ")\n",
    "plt.legend()\n",
    "None"
   ]
  },
  {
   "cell_type": "markdown",
   "metadata": {},
   "source": [
    "**Заклучок**: Постои систематски gender pay gap. Разликите се движат од 1 до 31% помали плати за жените."
   ]
  },
  {
   "cell_type": "code",
   "execution_count": 115,
   "metadata": {},
   "outputs": [
    {
     "data": {
      "text/html": [
       "<div>\n",
       "<style scoped>\n",
       "    .dataframe tbody tr th:only-of-type {\n",
       "        vertical-align: middle;\n",
       "    }\n",
       "\n",
       "    .dataframe tbody tr th {\n",
       "        vertical-align: top;\n",
       "    }\n",
       "\n",
       "    .dataframe thead th {\n",
       "        text-align: right;\n",
       "    }\n",
       "</style>\n",
       "<table border=\"1\" class=\"dataframe\">\n",
       "  <thead>\n",
       "    <tr style=\"text-align: right;\">\n",
       "      <th>female</th>\n",
       "      <th>rel_diff</th>\n",
       "    </tr>\n",
       "    <tr>\n",
       "      <th>employer_type</th>\n",
       "      <th></th>\n",
       "    </tr>\n",
       "  </thead>\n",
       "  <tbody>\n",
       "    <tr>\n",
       "      <th>remote за домашна компанија</th>\n",
       "      <td>0.010311</td>\n",
       "    </tr>\n",
       "    <tr>\n",
       "      <th>во претставништво на странска компанија во Македонија</th>\n",
       "      <td>0.031481</td>\n",
       "    </tr>\n",
       "    <tr>\n",
       "      <th>фриленс</th>\n",
       "      <td>0.124883</td>\n",
       "    </tr>\n",
       "    <tr>\n",
       "      <th>во домашна компанија</th>\n",
       "      <td>0.130553</td>\n",
       "    </tr>\n",
       "    <tr>\n",
       "      <th>remote за странска компанија</th>\n",
       "      <td>0.305335</td>\n",
       "    </tr>\n",
       "  </tbody>\n",
       "</table>\n",
       "</div>"
      ],
      "text/plain": [
       "female                                              rel_diff\n",
       "employer_type                                               \n",
       "remote за домашна компанија                         0.010311\n",
       "во претставништво на странска компанија во Маке...  0.031481\n",
       "фриленс                                             0.124883\n",
       "во домашна компанија                                0.130553\n",
       "remote за странска компанија                        0.305335"
      ]
     },
     "execution_count": 115,
     "metadata": {},
     "output_type": "execute_result"
    }
   ],
   "source": [
    "test_gender[['employer_type', 'rel_diff']].set_index('employer_type').sort_values('rel_diff')"
   ]
  },
  {
   "cell_type": "code",
   "execution_count": null,
   "metadata": {},
   "outputs": [],
   "source": []
  }
 ],
 "metadata": {
  "kernelspec": {
   "display_name": "Python 3",
   "language": "python",
   "name": "python3"
  },
  "language_info": {
   "codemirror_mode": {
    "name": "ipython",
    "version": 3
   },
   "file_extension": ".py",
   "mimetype": "text/x-python",
   "name": "python",
   "nbconvert_exporter": "python",
   "pygments_lexer": "ipython3",
   "version": "3.7.3"
  },
  "toc": {
   "base_numbering": 1,
   "nav_menu": {},
   "number_sections": false,
   "sideBar": true,
   "skip_h1_title": false,
   "title_cell": "Table of Contents",
   "title_sidebar": "Contents",
   "toc_cell": false,
   "toc_position": {},
   "toc_section_display": true,
   "toc_window_display": false
  },
  "varInspector": {
   "cols": {
    "lenName": 16,
    "lenType": 16,
    "lenVar": 40
   },
   "kernels_config": {
    "python": {
     "delete_cmd_postfix": "",
     "delete_cmd_prefix": "del ",
     "library": "var_list.py",
     "varRefreshCmd": "print(var_dic_list())"
    },
    "r": {
     "delete_cmd_postfix": ") ",
     "delete_cmd_prefix": "rm(",
     "library": "var_list.r",
     "varRefreshCmd": "cat(var_dic_list()) "
    }
   },
   "types_to_exclude": [
    "module",
    "function",
    "builtin_function_or_method",
    "instance",
    "_Feature"
   ],
   "window_display": false
  }
 },
 "nbformat": 4,
 "nbformat_minor": 2
}
